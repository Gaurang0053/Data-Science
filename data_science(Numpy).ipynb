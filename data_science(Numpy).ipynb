{
  "nbformat": 4,
  "nbformat_minor": 0,
  "metadata": {
    "colab": {
      "name": "data science(Numpy).ipynb",
      "provenance": [],
      "collapsed_sections": [],
      "authorship_tag": "ABX9TyNXwSefmKG7UBuVPA3kyw+b",
      "include_colab_link": true
    },
    "kernelspec": {
      "name": "python3",
      "display_name": "Python 3"
    }
  },
  "cells": [
    {
      "cell_type": "markdown",
      "metadata": {
        "id": "view-in-github",
        "colab_type": "text"
      },
      "source": [
        "<a href=\"https://colab.research.google.com/github/Gaurang0053/Data-Science/blob/main/data_science(Numpy).ipynb\" target=\"_parent\"><img src=\"https://colab.research.google.com/assets/colab-badge.svg\" alt=\"Open In Colab\"/></a>"
      ]
    },
    {
      "cell_type": "code",
      "metadata": {
        "colab": {
          "base_uri": "https://localhost:8080/"
        },
        "id": "hBLalcFH9iD-",
        "outputId": "63c4df62-e5a2-4a54-cb11-d56eabd8b196"
      },
      "source": [
        "import numpy as np\n",
        "lst=np.array([10,20])\n",
        "lst\n"
      ],
      "execution_count": null,
      "outputs": [
        {
          "output_type": "execute_result",
          "data": {
            "text/plain": [
              "array([10, 20])"
            ]
          },
          "metadata": {
            "tags": []
          },
          "execution_count": 2
        }
      ]
    },
    {
      "cell_type": "code",
      "metadata": {
        "colab": {
          "base_uri": "https://localhost:8080/"
        },
        "id": "mXmJHGnS9xhV",
        "outputId": "2c194979-c500-436d-cf51-6172dff82004"
      },
      "source": [
        "lst=np.zeros((2,3))\n",
        "lst"
      ],
      "execution_count": null,
      "outputs": [
        {
          "output_type": "execute_result",
          "data": {
            "text/plain": [
              "array([[0., 0., 0.],\n",
              "       [0., 0., 0.]])"
            ]
          },
          "metadata": {
            "tags": []
          },
          "execution_count": 4
        }
      ]
    },
    {
      "cell_type": "code",
      "metadata": {
        "colab": {
          "base_uri": "https://localhost:8080/"
        },
        "id": "83aqmufo-Cvb",
        "outputId": "358382a0-10ed-40b0-d35a-ccfa0b710beb"
      },
      "source": [
        "lst=np.full((2,2),5)\n",
        "lst"
      ],
      "execution_count": null,
      "outputs": [
        {
          "output_type": "execute_result",
          "data": {
            "text/plain": [
              "array([[5, 5],\n",
              "       [5, 5]])"
            ]
          },
          "metadata": {
            "tags": []
          },
          "execution_count": 5
        }
      ]
    },
    {
      "cell_type": "code",
      "metadata": {
        "colab": {
          "base_uri": "https://localhost:8080/"
        },
        "id": "wfTR6Q5j-XuE",
        "outputId": "9b514b97-6943-4915-a822-f4634a1f7776"
      },
      "source": [
        "lst=np.arange(10,20)\n",
        "lst"
      ],
      "execution_count": null,
      "outputs": [
        {
          "output_type": "execute_result",
          "data": {
            "text/plain": [
              "array([10, 11, 12, 13, 14, 15, 16, 17, 18, 19])"
            ]
          },
          "metadata": {
            "tags": []
          },
          "execution_count": 6
        }
      ]
    },
    {
      "cell_type": "code",
      "metadata": {
        "colab": {
          "base_uri": "https://localhost:8080/"
        },
        "id": "mCyBOPLN-YEH",
        "outputId": "12849c2d-267e-4355-ad3b-05e28f985663"
      },
      "source": [
        "lst = np.random.randint(1,100,5)\n",
        "lst"
      ],
      "execution_count": null,
      "outputs": [
        {
          "output_type": "execute_result",
          "data": {
            "text/plain": [
              "array([93, 29, 48,  9, 44])"
            ]
          },
          "metadata": {
            "tags": []
          },
          "execution_count": 35
        }
      ]
    },
    {
      "cell_type": "code",
      "metadata": {
        "colab": {
          "base_uri": "https://localhost:8080/"
        },
        "id": "jPM51OUrAdqh",
        "outputId": "dbf19ca6-18d5-43dc-cb9e-1e5f47291ec9"
      },
      "source": [
        "lst=np.array([[10,20],[30,40]])\n",
        "lst"
      ],
      "execution_count": null,
      "outputs": [
        {
          "output_type": "execute_result",
          "data": {
            "text/plain": [
              "array([[10, 20],\n",
              "       [30, 40]])"
            ]
          },
          "metadata": {
            "tags": []
          },
          "execution_count": 21
        }
      ]
    },
    {
      "cell_type": "code",
      "metadata": {
        "colab": {
          "base_uri": "https://localhost:8080/"
        },
        "id": "B4kxh_7TBAYn",
        "outputId": "cf720f8d-a751-4658-f56c-11a21087769c"
      },
      "source": [
        "lst=np.array([[10,20],[30,60]])\n",
        "lst.shape\n"
      ],
      "execution_count": null,
      "outputs": [
        {
          "output_type": "execute_result",
          "data": {
            "text/plain": [
              "(2, 2)"
            ]
          },
          "metadata": {
            "tags": []
          },
          "execution_count": 24
        }
      ]
    },
    {
      "cell_type": "code",
      "metadata": {
        "colab": {
          "base_uri": "https://localhost:8080/"
        },
        "id": "FZoH8oMrBkF9",
        "outputId": "21a351ca-98cf-4230-b507-0b60a6ff7865"
      },
      "source": [
        "x = np.array([3, 5, 7])\n",
        "y = np.array([8, 6, 9])\n",
        "np.vstack((x,y))\n",
        "\n"
      ],
      "execution_count": null,
      "outputs": [
        {
          "output_type": "execute_result",
          "data": {
            "text/plain": [
              "array([[3, 5, 7],\n",
              "       [8, 6, 9]])"
            ]
          },
          "metadata": {
            "tags": []
          },
          "execution_count": 32
        }
      ]
    },
    {
      "cell_type": "code",
      "metadata": {
        "colab": {
          "base_uri": "https://localhost:8080/"
        },
        "id": "fYVPx3s9DDCD",
        "outputId": "c3bdb3ca-288c-4057-c4bc-0b1c898cc66c"
      },
      "source": [
        "x = np.array([3, 5, 7])\n",
        "y = np.array([8, 6, 9])\n",
        "np.hstack((x,y))\n",
        "\n"
      ],
      "execution_count": null,
      "outputs": [
        {
          "output_type": "execute_result",
          "data": {
            "text/plain": [
              "array([3, 5, 7, 8, 6, 9])"
            ]
          },
          "metadata": {
            "tags": []
          },
          "execution_count": 31
        }
      ]
    },
    {
      "cell_type": "code",
      "metadata": {
        "colab": {
          "base_uri": "https://localhost:8080/"
        },
        "id": "mZ0CNyZIHnD_",
        "outputId": "b2a567c4-ac78-44c1-8e9a-0038c95fcb3b"
      },
      "source": [
        "arr1 = np.array([1, 1, 2, 3, 4]) \n",
        "arr2 = np.array([2, 1, 4, 6]) \n",
        "gfg = np.intersect1d(arr1, arr2)  \n",
        "gfg \n"
      ],
      "execution_count": null,
      "outputs": [
        {
          "output_type": "execute_result",
          "data": {
            "text/plain": [
              "array([1, 2, 4])"
            ]
          },
          "metadata": {
            "tags": []
          },
          "execution_count": 41
        }
      ]
    },
    {
      "cell_type": "code",
      "metadata": {
        "colab": {
          "base_uri": "https://localhost:8080/"
        },
        "id": "rnahbADbIXxz",
        "outputId": "3b1410c6-5d11-420c-ec0d-e4a26a47ae6b"
      },
      "source": [
        "arr1 = np.array([1, 1, 2, 3]) \n",
        "arr2 = np.array([2, 1, 4, 6]) \n",
        "gfg = np.setdiff1d(arr1, arr2)  \n",
        "gfg \n"
      ],
      "execution_count": null,
      "outputs": [
        {
          "output_type": "execute_result",
          "data": {
            "text/plain": [
              "array([3])"
            ]
          },
          "metadata": {
            "tags": []
          },
          "execution_count": 44
        }
      ]
    },
    {
      "cell_type": "code",
      "metadata": {
        "colab": {
          "base_uri": "https://localhost:8080/"
        },
        "id": "kYextevtL9ii",
        "outputId": "00d8f015-89b1-4900-abd3-537b8c57530e"
      },
      "source": [
        "arr1 = np.array([1, 1, 2, 3]) \n",
        "arr2 = np.array([2, 1, 4, 6]) \n",
        "gfg = np.add(arr1, arr2)  \n",
        "gfg \n"
      ],
      "execution_count": null,
      "outputs": [
        {
          "output_type": "execute_result",
          "data": {
            "text/plain": [
              "array([3, 2, 6, 9])"
            ]
          },
          "metadata": {
            "tags": []
          },
          "execution_count": 45
        }
      ]
    },
    {
      "cell_type": "code",
      "metadata": {
        "colab": {
          "base_uri": "https://localhost:8080/"
        },
        "id": "m2FduEBVHk1G",
        "outputId": "c1c032da-9a6d-4b32-be9a-13fd28557b16"
      },
      "source": [
        "a=np.array([10,20,30])\n",
        "a=a+2\n",
        "a"
      ],
      "execution_count": null,
      "outputs": [
        {
          "output_type": "execute_result",
          "data": {
            "text/plain": [
              "array([12, 22, 32])"
            ]
          },
          "metadata": {
            "tags": []
          },
          "execution_count": 46
        }
      ]
    },
    {
      "cell_type": "code",
      "metadata": {
        "colab": {
          "base_uri": "https://localhost:8080/"
        },
        "id": "CR4CD4LDNFWJ",
        "outputId": "777c3c68-c861-4dcf-9337-38ebd8bfed70"
      },
      "source": [
        "a=np.array([10,20,30])\n",
        "a=a*2\n",
        "a"
      ],
      "execution_count": null,
      "outputs": [
        {
          "output_type": "execute_result",
          "data": {
            "text/plain": [
              "array([20, 40, 60])"
            ]
          },
          "metadata": {
            "tags": []
          },
          "execution_count": 47
        }
      ]
    },
    {
      "cell_type": "code",
      "metadata": {
        "colab": {
          "base_uri": "https://localhost:8080/"
        },
        "id": "s-UdH0iZNEzS",
        "outputId": "9aa34f97-bcab-4e0f-fadb-c5197f77f8d2"
      },
      "source": [
        "a=np.array([10,20,30])\n",
        "a=a/2\n",
        "a"
      ],
      "execution_count": null,
      "outputs": [
        {
          "output_type": "execute_result",
          "data": {
            "text/plain": [
              "array([ 5., 10., 15.])"
            ]
          },
          "metadata": {
            "tags": []
          },
          "execution_count": 48
        }
      ]
    },
    {
      "cell_type": "code",
      "metadata": {
        "id": "Od31Tr5VNrQd"
      },
      "source": [
        ""
      ],
      "execution_count": null,
      "outputs": []
    },
    {
      "cell_type": "code",
      "metadata": {
        "id": "KINWIBSCNrbb"
      },
      "source": [
        ""
      ],
      "execution_count": null,
      "outputs": []
    },
    {
      "cell_type": "code",
      "metadata": {
        "id": "7x7ylxvxNrdO"
      },
      "source": [
        ""
      ],
      "execution_count": null,
      "outputs": []
    }
  ]
}